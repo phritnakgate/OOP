{
 "cells": [
  {
   "attachments": {},
   "cell_type": "markdown",
   "metadata": {},
   "source": [
    "## LAB#1\n",
    "1. จงเขียนโปรแกรมที่จะหาตัวเลขระหว่าง 2000-3200 ที่หารด้วย 7 ลงตัว แต่หารด้วย 5 ไม่ลงตัว<br>การแสดงผลให้แสดงตัวเลขและคั่นด้วยเครื่องหมาย , ในบรรทัดเดียว"
   ]
  },
  {
   "cell_type": "code",
   "execution_count": 1,
   "metadata": {},
   "outputs": [
    {
     "name": "stdout",
     "output_type": "stream",
     "text": [
      "2002,2009,2016,2023,2037,2044,2051,2058,2072,2079,2086,2093,2107,2114,2121,2128,2142,2149,2156,2163,2177,2184,2191,2198,2212,2219,2226,2233,2247,2254,2261,2268,2282,2289,2296,2303,2317,2324,2331,2338,2352,2359,2366,2373,2387,2394,2401,2408,2422,2429,2436,2443,2457,2464,2471,2478,2492,2499,2506,2513,2527,2534,2541,2548,2562,2569,2576,2583,2597,2604,2611,2618,2632,2639,2646,2653,2667,2674,2681,2688,2702,2709,2716,2723,2737,2744,2751,2758,2772,2779,2786,2793,2807,2814,2821,2828,2842,2849,2856,2863,2877,2884,2891,2898,2912,2919,2926,2933,2947,2954,2961,2968,2982,2989,2996,3003,3017,3024,3031,3038,3052,3059,3066,3073,3087,3094,3101,3108,3122,3129,3136,3143,3157,3164,3171,3178,3192,3199,"
     ]
    }
   ],
   "source": [
    "for i in range(2000,3200):\n",
    "    if i%7==0 and i%5!=0:\n",
    "        print(i,end=\",\")"
   ]
  },
  {
   "attachments": {},
   "cell_type": "markdown",
   "metadata": {},
   "source": [
    "2. ให้ตรวจสอบว่า String ที่รับเข้ามาผ่านคีย์บอร์ด เป็นตัวอักษรพิมพ์เล็ก หรือตัวอักษรพิมพ์ใหญ่ อย่างละกี่ตัว ให้ตอบ 2 บรรทัด จำนวนตัวพิมพ์เล็ก 1 บรรทัด จำนวนตัวพิมพ์ใหญ่ 1 บรรทัด"
   ]
  },
  {
   "cell_type": "code",
   "execution_count": 2,
   "metadata": {},
   "outputs": [
    {
     "name": "stdout",
     "output_type": "stream",
     "text": [
      "1\n",
      "2\n"
     ]
    }
   ],
   "source": [
    "inp = str(input(\"Enter the string: \"))\n",
    "letter = [0,0]  # 0 for uppercase, 1 for lowercase\n",
    "for i in range(len(inp)):\n",
    "    if inp[i].isupper():\n",
    "        letter[0]+=1\n",
    "    elif inp[i].islower():\n",
    "        letter[1]+=1\n",
    "    else:\n",
    "        pass\n",
    "print(letter[1])\n",
    "print(letter[0])"
   ]
  },
  {
   "attachments": {
    "image.png": {
     "image/png": "[encoded data removed]"
    }
   },
   "cell_type": "markdown",
   "metadata": {},
   "source": [
    "3. ให้รับเวลาเข้าและออกของรถให้รับเวลาเข้าและออกของรถคันหนึ่ง (เปิดบริการตั้งแต่ 7:00 - 23:00) จากนั้นคำนวณค่าที่จอดรถที่ต้องจ่าย โดยหลักเกณฑ์การคำนวณมีดังนี้\n",
    "1) จอดรถไม่เกิน 15 นาที ไม่คิดค่าบริการ\n",
    "2) จอดรถเกิน 15 นาที แต่ไม่เกิน 3 ชั่วโมง คิดค่าบริการชั่วโมงละ 10 บาท เศษของชั่วโมงคิดเป็นหนึ่งชั่วโมง\n",
    "3) จอดรถตั้งแต่ 4 ชั่วโมง ถึง 6 ชั่วโมง คิดค่าบริการชั่วโมงที่ 4-6 ชั่วโมงละ 20 บาท เศษของชั่วโมงคิดเป็นหนึ่งชั่วโมง\n",
    "4) จอดรถเกิน 6 ชั่วโมงขึ้นไป เหมาจ่ายวันละ 200 บาท<br>\n",
    "ข้อมูลนำเข้า<br>\n",
    "มี 1 บรรทัด แต่ละบรรทัดมีจำนวนเต็ม 4 จำนวนคั่นด้วย Space\n",
    "โดยบรรทัดที่ 1-2 เป็นชั่วโมงและนาทีของเวลาเข้า และบรรทัดที่ 3-4 เป็นชั่วโมงและนาทีของเวลาออก<br>\n",
    "ข้อมูลส่งออก<br>\n",
    "มีบรรทัดเดียว เป็นค่าที่จอดรถที่ต้องจ่าย ให้แสดงผลลัพธ์เป็นจำนวนเต็ม\n",
    "\n",
    "![image.png](attachment:image.png)"
   ]
  },
  {
   "cell_type": "code",
   "execution_count": 64,
   "metadata": {},
   "outputs": [
    {
     "name": "stdout",
     "output_type": "stream",
     "text": [
      "0\n"
     ]
    }
   ],
   "source": [
    "from datetime import datetime\n",
    "time = input(\"Enter the time in seconds: \").split(\" \")\n",
    "\n",
    "start_time_str = time[0]+\":\"+time[1]\n",
    "start_time = datetime.strptime(start_time_str, \"%H:%M\")\n",
    "\n",
    "stop_time_str = time[2]+\":\"+time[3]\n",
    "stop_time = datetime.strptime(stop_time_str, \"%H:%M\")\n",
    "\n",
    "diff = stop_time - start_time\n",
    "minu = diff.seconds//60\n",
    "#print(\"Total time in minutes: \",minu)\n",
    "hours = diff.seconds//3600\n",
    "#print(\"Total time in hours: \",hours)\n",
    "fee = 0\n",
    "if(hours == 0):\n",
    "    if(minu<=15):\n",
    "        print(fee)\n",
    "    else:\n",
    "        fee+= 10\n",
    "        print(fee)\n",
    "elif(hours != 0 and hours <= 3):\n",
    "    minu -= hours*60\n",
    "    fee+= 10*hours\n",
    "    if(minu==0):\n",
    "        print(fee)\n",
    "    else:\n",
    "        fee+=20\n",
    "        print(fee)\n",
    "elif(hours >= 4 and hours <= 6):\n",
    "    minu -= hours*60\n",
    "    fee+= 10*hours\n",
    "    if(minu==0):\n",
    "        print(fee)\n",
    "    else:\n",
    "        fee = 200\n",
    "        print(fee)\n",
    "else:\n",
    "    fee = 200\n",
    "    print(fee)"
   ]
  },
  {
   "attachments": {},
   "cell_type": "markdown",
   "metadata": {},
   "source": [
    "4. จงเขียนโปรแกรมที่คำนวณค่าของ a+aa+aaa+aaaa เมื่อรับข้อมูลเป็นตัวเลข 1 หลัก <br>Input : 9<br>\n",
    "Output : 11106 (=9+99+999+9999)"
   ]
  },
  {
   "cell_type": "code",
   "execution_count": 55,
   "metadata": {},
   "outputs": [
    {
     "name": "stdout",
     "output_type": "stream",
     "text": [
      "11106\n"
     ]
    }
   ],
   "source": [
    "x = int(input(\"Enter the number(1-9): \"))\n",
    "result = x + (x+x*10) + (x+x*10+x*100) + (x+x*10+x*100+x*1000)\n",
    "print(result)"
   ]
  },
  {
   "attachments": {},
   "cell_type": "markdown",
   "metadata": {},
   "source": [
    "5. ตัวเลข palindrome คือตัวเลขที่อ่านได้ทั้ง 2 ทาง แล้วมีค่าเท่ากัน เช่น 9009 โดย 9009 คือ palindrome ที่เกิดจากการคูณของตัวเลข 2 หลักที่มากที่สุด คือ 91x99 จงหา palindrome ที่มากที่สุดของตัวเลข 3 หลัก"
   ]
  },
  {
   "cell_type": "code",
   "execution_count": 21,
   "metadata": {},
   "outputs": [
    {
     "name": "stdout",
     "output_type": "stream",
     "text": [
      "906609\n"
     ]
    }
   ],
   "source": [
    "num = []\n",
    "for i in range(100,1000):\n",
    "    for j in range(100,1000):\n",
    "        num.append(i*j)\n",
    "palin = []\n",
    "for k in range(len(num)):\n",
    "    if str(num[k]) == str(num[k])[::-1]:\n",
    "        palin.append(num[k])\n",
    "print(max(palin))"
   ]
  },
  {
   "cell_type": "code",
   "execution_count": 22,
   "metadata": {},
   "outputs": [
    {
     "name": "stdout",
     "output_type": "stream",
     "text": [
      "906609\n"
     ]
    }
   ],
   "source": [
    "lists = []\n",
    "for x in range(999, 1, -1):\n",
    "    for y in range(999, 1, -1):\n",
    "        txt = str(x*y)\n",
    "        if txt == txt[::-1]:\n",
    "            lists.append(x*y)\n",
    "print(max(lists))"
   ]
  },
  {
   "attachments": {},
   "cell_type": "markdown",
   "metadata": {},
   "source": [
    "6. จงเขียนโปรแกรมแสดงรูปสามเหลื่ยม (ตามโปรแกรมใน Slide 5) แต่ปรับปรุงให้ใช้ Loop เพียง Loop เดียว"
   ]
  },
  {
   "cell_type": "code",
   "execution_count": 1,
   "metadata": {},
   "outputs": [
    {
     "name": "stdout",
     "output_type": "stream",
     "text": [
      "          #\n",
      "         ##\n",
      "        ###\n",
      "       ####\n",
      "      #####\n",
      "     ######\n",
      "    #######\n",
      "   ########\n",
      "  #########\n",
      " ##########\n"
     ]
    }
   ],
   "source": [
    "n = 10\n",
    "for i in range(1,n+1):\n",
    "    print(' '*(n-i+1)+\"#\"*i)"
   ]
  }
 ],
 "metadata": {
  "kernelspec": {
   "display_name": "Python 3",
   "language": "python",
   "name": "python3"
  },
  "language_info": {
   "codemirror_mode": {
    "name": "ipython",
    "version": 3
   },
   "file_extension": ".py",
   "mimetype": "text/x-python",
   "name": "python",
   "nbconvert_exporter": "python",
   "pygments_lexer": "ipython3",
   "version": "3.10.7"
  },
  "orig_nbformat": 4,
  "vscode": {
   "interpreter": {
    "hash": "26de051ba29f2982a8de78e945f0abaf191376122a1563185a90213a26c5da77"
   }
  }
 },
 "nbformat": 4,
 "nbformat_minor": 2
}
