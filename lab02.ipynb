{
 "cells": [
  {
   "attachments": {},
   "cell_type": "markdown",
   "metadata": {},
   "source": [
    "1. ให้เขียนโปรแกรมรับข้อมูล 1 บรรทัด ประกอบด้วยตัวเลข 1 หลัก จำนวนไม่เกิน 10 ตัว คั่นด้วยช่องว่าง จากนั้นให้นำตัวเลขที่รับเข้ามาเรียงกัน และหาลำดับการเรียงที่ทำให้มีค่าน้อยที่สุด โดยต้องไม่ขึ้นต้นด้วย 0 <br>Input : 9 4 6 2 คำตอบ 2469 <br>Input : 3 0 8 1 3 3 คำตอบ : 103338"
   ]
  },
  {
   "cell_type": "code",
   "execution_count": 8,
   "metadata": {},
   "outputs": [
    {
     "name": "stdout",
     "output_type": "stream",
     "text": [
      "['2', '4', '6', '9']\n",
      "2469"
     ]
    }
   ],
   "source": [
    "x = input(\"Enter upto 10 numbers: \").split()\n",
    "x.sort()\n",
    "\n",
    "if(x[0] == '0'):\n",
    "    temp = x[1]\n",
    "    x[1] = x[0]\n",
    "    x[0] = temp\n",
    "    \n",
    "for i in range(len(x)):\n",
    "    print(x[i], end = '')"
   ]
  },
  {
   "attachments": {},
   "cell_type": "markdown",
   "metadata": {},
   "source": [
    "2. กำหนดให้ List x เก็บ String และตัวแปร c เก็บตัวอักษร\n",
    "ให้สร้าง List d ที่เก็บจำนวนครั้งที่ตัวอักษรใน c ปรากฏในแต่ละ String ของ List x โดยใช้ List comprehension<br>\n",
    "– เช่น x = [‘abba’, ‘babana’, ‘ann’]; c = ‘a’<br>\n",
    "– จะได้ d = [2, 3, 1] <br>\n",
    "ให้สร้างเป็น function count_char_in_string(x,c) แล้ว return เป็น List คำตอบ"
   ]
  },
  {
   "cell_type": "code",
   "execution_count": 1,
   "metadata": {},
   "outputs": [
    {
     "name": "stdout",
     "output_type": "stream",
     "text": [
      "[2, 3, 1]\n"
     ]
    }
   ],
   "source": [
    "def count_char_in_string(x, c):\n",
    "    d = []\n",
    "    for i in range(len(x)):\n",
    "        count = 0\n",
    "        if(c in x[i]):\n",
    "            for j in range(len(x[i])):\n",
    "                if(x[i][j] == c):\n",
    "                    count += 1\n",
    "        else:\n",
    "            d.append(0)\n",
    "        d.append(count)\n",
    "    return d\n",
    "\n",
    "x = input(\"Input string: \").split()\n",
    "c = input(\"Input character: \")\n",
    "\n",
    "print(count_char_in_string(x, c))"
   ]
  },
  {
   "cell_type": "code",
   "execution_count": 9,
   "metadata": {},
   "outputs": [
    {
     "name": "stdout",
     "output_type": "stream",
     "text": [
      "[2, 3, 1]\n"
     ]
    }
   ],
   "source": [
    "def count_char_in_string(x, c):\n",
    "    return [x[i].count(c) if c in x[i] else 0 for i in range(len(x))]\n",
    "\n",
    "x = input(\"Input string: \").split()\n",
    "c = input(\"Input character: \")\n",
    "\n",
    "print(count_char_in_string(x, c))"
   ]
  },
  {
   "attachments": {},
   "cell_type": "markdown",
   "metadata": {},
   "source": [
    "3. กำหนดให้ List x เป็น List ของจำนวนเต็ม\n",
    "ให้เขียนโปรแกรมเพื่อลบจำนวนเต็มทุกตัวใน x ที่มีค่าเป็นลบ โดยใช้ List comprehension<br>\n",
    "– เช่น x = [ [1, -3, 2], [-8, 5], [-1, -4, -3] ]<br>\n",
    "– ได้คำตอบเป็น [ [1, 2], [5], [] ]<br>\n",
    "ให้สร้างเป็น delete_minus(x) แล้ว return เป็น List คำตอบ"
   ]
  },
  {
   "cell_type": "code",
   "execution_count": 34,
   "metadata": {},
   "outputs": [
    {
     "name": "stdout",
     "output_type": "stream",
     "text": [
      "[[1, 2], [5], []]\n"
     ]
    }
   ],
   "source": [
    "def delete_minus(x):\n",
    "    for i in range(len(x)):\n",
    "        for j in range(len(x[i])):\n",
    "            if(x[i][j] < 0):\n",
    "                x[i][j] = 0\n",
    "        cnt = x[i].count(0)\n",
    "        for k in range(cnt):\n",
    "            x[i].remove(0)     \n",
    "    return x\n",
    "\n",
    "x = [[1, -3, 2], [-8, 5], [-1, -4, -3]]\n",
    "print(delete_minus(x))"
   ]
  },
  {
   "cell_type": "code",
   "execution_count": 2,
   "metadata": {},
   "outputs": [
    {
     "name": "stdout",
     "output_type": "stream",
     "text": [
      "[[1, 2], [5], []]\n"
     ]
    }
   ],
   "source": [
    "def delete_minus(x):\n",
    "    return [[j for j in i if j >= 0] for i in x]\n",
    "\n",
    "x = [[1, -3, 2], [-8, 5], [-1, -4, -3]]\n",
    "print(delete_minus(x))"
   ]
  },
  {
   "attachments": {},
   "cell_type": "markdown",
   "metadata": {},
   "source": [
    "4. ให้เขียนโปรแกรมเพื่อรับข้อมูล 1 บรรทัด ที่ประกอบด้วยจำนวนเต็มหลายจำนวน (คั่นด้วยช่องว่าง)\n",
    "ให้ส่งคืนว่ามีจำนวนที่เป็นลบกี่จำนวน โดยใช้ List comprehension\n",
    "ให้เขียนในฟังก์ชัน count_minus(str) แล้ว return เป็นคำตอบ"
   ]
  },
  {
   "cell_type": "code",
   "execution_count": 6,
   "metadata": {},
   "outputs": [
    {
     "name": "stdout",
     "output_type": "stream",
     "text": [
      "2\n"
     ]
    }
   ],
   "source": [
    "def count_minus(str):\n",
    "    count = 0\n",
    "    for i in range(len(str)):\n",
    "        if(str[i] == '-'):\n",
    "            count += 1\n",
    "    return count\n",
    "\n",
    "print(count_minus(input()))"
   ]
  },
  {
   "cell_type": "code",
   "execution_count": 3,
   "metadata": {},
   "outputs": [
    {
     "name": "stdout",
     "output_type": "stream",
     "text": [
      "2\n"
     ]
    }
   ],
   "source": [
    "def count_minus(str):\n",
    "    return len([c for c in str if c == '-'])\n",
    "\n",
    "print(count_minus(input()))"
   ]
  },
  {
   "attachments": {},
   "cell_type": "markdown",
   "metadata": {},
   "source": [
    "5. ให้เขียนโปรแกรมเพื่อรับ string 1 ตัว\n",
    "ให้ส่งคืนเฉพาะตัวอักษรที่เป็นภาษาอังกฤษ โดยใช้ List comprehension\n",
    "ให้เขียนในฟังก์ชัน only_english(string1) แล้ว return เป็นคำตอบเป็น string"
   ]
  },
  {
   "cell_type": "code",
   "execution_count": 5,
   "metadata": {},
   "outputs": [
    {
     "name": "stdout",
     "output_type": "stream",
     "text": [
      "ากาสหกดodd\n"
     ]
    }
   ],
   "source": [
    "def only_english(str):\n",
    "    return ''.join([c for c in str if c.isalpha()])\n",
    "\n",
    "print(only_english(input()))"
   ]
  },
  {
   "attachments": {},
   "cell_type": "markdown",
   "metadata": {},
   "source": [
    "6. กำหนดให้ list x และ y เป็น list ของจำนวนเต็ม โดยมีขนาดเท่ากัน\n",
    "ให้ return list ที่เป็นผลบวกของ list x และ y โดยใช้ list comprehension\n",
    "ให้เขียนในฟังก์ชัน function ชื่อ add2list(lst1,lst2)"
   ]
  },
  {
   "cell_type": "code",
   "execution_count": 50,
   "metadata": {},
   "outputs": [
    {
     "name": "stdout",
     "output_type": "stream",
     "text": [
      "[5, 7, 9]\n"
     ]
    }
   ],
   "source": [
    "def add2list(lst1, lst2):\n",
    "    result = []\n",
    "    return [x + y for x, y in zip(lst1, lst2)]\n",
    "\n",
    "lst1 = [1, 2, 3]\n",
    "lst2 = [4, 5, 6]\n",
    "print(add2list(lst1, lst2))"
   ]
  },
  {
   "attachments": {},
   "cell_type": "markdown",
   "metadata": {},
   "source": [
    "7. ให้เขียน function ชื่อ day_of_year(day, month ,year) โดยมีการคืนค่า คือ day_of_years เป็นวันที่ลำดับที่เท่าใดของปีคริสตศักราช year<br>\n",
    "– ปีที่เป็น Leap Year เดือนกุมภาพันธ์จะมี 29 วัน<br>\n",
    "– ให้สร้างฟังก์ชัน is_leap เพื่อตรวจสอบ leap year แยกออกมา และให้ฟังก์ชัน day_of_year เรียกใช้ is_leap อีกที"
   ]
  },
  {
   "cell_type": "code",
   "execution_count": 1,
   "metadata": {},
   "outputs": [],
   "source": [
    "day_in_month = [0,31,28,31,30,31,30,31,31,30,31,30,31]\n",
    "\n",
    "def is_leap(year):\n",
    "    return year % 4 == 0 and (year % 100 != 0 or year % 400 == 0)\n",
    "def day_of_year(day,month,year):\n",
    "    day_of_years = 0\n",
    "    if(is_leap(year)):\n",
    "        day_in_month[2] += 1\n",
    "    else:\n",
    "        if month == 2 and day == 29:\n",
    "            return -1\n",
    "    for i in range(1,month):\n",
    "        day_of_years += day_in_month[i]\n",
    "    \n",
    "    day_of_years += day\n",
    "\n",
    "    return day_of_years"
   ]
  },
  {
   "attachments": {},
   "cell_type": "markdown",
   "metadata": {},
   "source": [
    "8. จากโปรแกรมในข้อ 7 ให้เขียนฟังก์ชัน เพิ่มเติมเป็น date_diff\n",
    "– รับข้อมูลในรูปแบบ “dd-mm-yyyy” เช่น date_diff(“1-1-2018”, “1-1-2020”) จะได้ 731 วัน date_diff(“25-12-1999”, “9-3-2000”) จะได้ 76 วัน <br>\n",
    "– ให้เขียนฟังก์ชัน day_in_year โดยจะส่งค่าจำนวนวันของปี (365 หรือ 366) โดยรับข้อมูลเป็น ปี<br>\n",
    "– ส่งคืนข้อมูลเป็นจำนวนวันตั้งแต่วันที่แรก จนถึงวันที่สอง โดยรวมทั้ง 2 วันนั้นเข้าไปด้วย<br>\n",
    "– ให้สมมติว่าวันแรก จะต้องมาก่อนวันที่สองเสมอ ดังนั้นไม่ต้องตรวจสอบ"
   ]
  },
  {
   "cell_type": "code",
   "execution_count": 32,
   "metadata": {},
   "outputs": [
    {
     "name": "stdout",
     "output_type": "stream",
     "text": [
      "76\n"
     ]
    }
   ],
   "source": [
    "day_in_month = [0,31,28,31,30,31,30,31,31,30,31,30,31]\n",
    "\n",
    "def is_leap(year):\n",
    "    return year % 4 == 0 and (year % 100 != 0 or year % 400 == 0)\n",
    "\n",
    "def day_of_year(day,month,year):\n",
    "    day_of_years = 0\n",
    "    if(is_leap(year)):\n",
    "        day_in_month[2] += 1\n",
    "    else:\n",
    "        if month == 2 and day == 29:\n",
    "            return -1\n",
    "    for i in range(1,month):\n",
    "        day_of_years += day_in_month[i]\n",
    "    day_of_years += day\n",
    "\n",
    "    return day_of_years\n",
    "\n",
    "def day_in_year(year):\n",
    "    if(is_leap(year)):\n",
    "        return 366\n",
    "    else:\n",
    "        return 365\n",
    "\n",
    "def date_diff(date1, date2):\n",
    "    day1, month1, year1 = date1.split('-')\n",
    "    day2, month2, year2 = date2.split('-')\n",
    "    tt_day = 0\n",
    "    \n",
    "    if(int(year2) - int(year1) != 0):\n",
    "        #Full center year\n",
    "        if(int(year2) - int(year1) > 1):\n",
    "            for i in range(int(year1)+1, int(year2)):\n",
    "                tt_day += day_in_year(i)\n",
    "        if(is_leap(int(month1)) or is_leap(int(month2))):\n",
    "            tt_day +=1\n",
    "        tt_day += day_of_year(int(day2), int(month2), int(year2))\n",
    "        tt_day += day_in_year(int(year1)) - day_of_year(int(day1), int(month1), int(year1))\n",
    "        return tt_day + 1 #บวก 1 เพราะว่าไม่นับวันที่เริ่มต้น\n",
    "    else:\n",
    "        tt_day+= day_of_year(int(day2), int(month2), int(year2)) - day_of_year(int(day1), int(month1), int(year1))\n",
    "        return tt_day + 1 #บวก 1 เพราะว่าไม่นับวันที่เริ่มต้น\n",
    "\n",
    "\n",
    "print(date_diff(\"25-12-1999\", \"9-3-2000\"))"
   ]
  },
  {
   "attachments": {},
   "cell_type": "markdown",
   "metadata": {},
   "source": [
    "9. จากโปรแกรมในข้อ 8 ให้เขียนฟังก์ชัน date_diff เพิ่มเติม โดยให้มีการตรวจสอบ<br>\n",
    "– วันที่ต้องเป็นวันที่ถูกต้องของเดือนนั้นๆ<br>\n",
    "– เดือนต้องอยู่ระหว่าง 1-12<br>\n",
    "– เดือนกุมภาพันธ์ของปีที่มี Leap Year เท่านั้นที่จะมี 29 วันได้<br>\n",
    "– หากข้อมูล Input ผิดพลาด ให้ Return -1"
   ]
  },
  {
   "cell_type": "code",
   "execution_count": null,
   "metadata": {},
   "outputs": [],
   "source": [
    "day_in_month = [0,31,28,31,30,31,30,31,31,30,31,30,31]\n",
    "\n",
    "def is_leap(year):\n",
    "    return year % 4 == 0 and (year % 100 != 0 or year % 400 == 0)\n",
    "\n",
    "def day_of_year(day,month,year):\n",
    "    day_of_years = 0\n",
    "    if(is_leap(year)):\n",
    "        day_in_month[2] += 1\n",
    "    else:\n",
    "        #ข้อมูล Input ผิดพลาด\n",
    "        if month == 2 and day == 29:\n",
    "            return -1\n",
    "    for i in range(1,month):\n",
    "        day_of_years += day_in_month[i]\n",
    "    day_of_years += day\n",
    "\n",
    "    return day_of_years\n",
    "\n",
    "def day_in_year(year):\n",
    "    if(is_leap(year)):\n",
    "        return 366\n",
    "    else:\n",
    "        return 365\n",
    "\n",
    "def date_diff(date1, date2):\n",
    "    day1, month1, year1 = date1.split('-')\n",
    "    day2, month2, year2 = date2.split('-')\n",
    "    tt_day = 0\n",
    "    \n",
    "    #Check ERROR\n",
    "    #วันที่ต้องเป็นวันที่ถูกต้องของเดือนนั้นๆ\n",
    "    if(int(day1) < 1 or int(day1) > day_in_month[int(month1)] or int(day2) < 1 or int(day2) > day_in_month[int(month2)]):\n",
    "        return -1\n",
    "    #เดือนต้องอยู่ระหว่าง 1-12\n",
    "    if(int(month1) < 1 or int(month1) > 12 or int(month2) < 1 or int(month2) > 12):\n",
    "        return -1\n",
    "    #เดือนกุมภาพันธ์ของปีที่มี Leap Year เท่านั้นที่จะมี 29 วันได้\n",
    "    if((int(month1) == 2 and int(day1) == 29 and not is_leap(int(year1))) or (int(month2) == 2 and int(day2) == 29 and not is_leap(int(year2)))):\n",
    "        return -1\n",
    "\n",
    "    if(int(year2) - int(year1) != 0):\n",
    "        #Full center year\n",
    "        if(int(year2) - int(year1) > 1):\n",
    "            for i in range(int(year1)+1, int(year2)):\n",
    "                tt_day += day_in_year(i)\n",
    "        if(is_leap(int(month1)) or is_leap(int(month2))):\n",
    "            tt_day +=1\n",
    "        tt_day += day_of_year(int(day2), int(month2), int(year2))\n",
    "        tt_day += day_in_year(int(year1)) - day_of_year(int(day1), int(month1), int(year1))\n",
    "        return tt_day + 1 #บวก 1 เพราะว่าไม่นับวันที่เริ่มต้น\n",
    "    else:\n",
    "        tt_day+= day_of_year(int(day2), int(month2), int(year2)) - day_of_year(int(day1), int(month1), int(year1))\n",
    "        return tt_day + 1 #บวก 1 เพราะว่าไม่นับวันที่เริ่มต้น"
   ]
  }
 ],
 "metadata": {
  "kernelspec": {
   "display_name": "Python 3",
   "language": "python",
   "name": "python3"
  },
  "language_info": {
   "codemirror_mode": {
    "name": "ipython",
    "version": 3
   },
   "file_extension": ".py",
   "mimetype": "text/x-python",
   "name": "python",
   "nbconvert_exporter": "python",
   "pygments_lexer": "ipython3",
   "version": "3.10.7"
  },
  "orig_nbformat": 4,
  "vscode": {
   "interpreter": {
    "hash": "26de051ba29f2982a8de78e945f0abaf191376122a1563185a90213a26c5da77"
   }
  }
 },
 "nbformat": 4,
 "nbformat_minor": 2
}
